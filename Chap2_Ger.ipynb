{
 "cells": [
  {
   "cell_type": "code",
   "execution_count": 1,
   "id": "b7664c09",
   "metadata": {},
   "outputs": [],
   "source": [
    "import numpy as np\n",
    "import pandas as pd\n",
    "import matplotlib.pyplot as plt\n",
    "import statsmodels.api as sm\n",
    "import statsmodels.formula.api as smf\n",
    "from sklearn.linear_model import LinearRegression"
   ]
  },
  {
   "cell_type": "code",
   "execution_count": 2,
   "id": "18a9e5b5",
   "metadata": {},
   "outputs": [
    {
     "data": {
      "text/html": [
       "<div>\n",
       "<style scoped>\n",
       "    .dataframe tbody tr th:only-of-type {\n",
       "        vertical-align: middle;\n",
       "    }\n",
       "\n",
       "    .dataframe tbody tr th {\n",
       "        vertical-align: top;\n",
       "    }\n",
       "\n",
       "    .dataframe thead th {\n",
       "        text-align: right;\n",
       "    }\n",
       "</style>\n",
       "<table border=\"1\" class=\"dataframe\">\n",
       "  <thead>\n",
       "    <tr style=\"text-align: right;\">\n",
       "      <th></th>\n",
       "      <th>Date_reported</th>\n",
       "      <th>Country_code</th>\n",
       "      <th>Country</th>\n",
       "      <th>WHO_region</th>\n",
       "      <th>New_cases</th>\n",
       "      <th>Cumulative_cases</th>\n",
       "      <th>New_deaths</th>\n",
       "      <th>Cumulative_deaths</th>\n",
       "    </tr>\n",
       "  </thead>\n",
       "  <tbody>\n",
       "    <tr>\n",
       "      <th>1</th>\n",
       "      <td>2020-01-03</td>\n",
       "      <td>AF</td>\n",
       "      <td>Afghanistan</td>\n",
       "      <td>EMRO</td>\n",
       "      <td>0</td>\n",
       "      <td>0</td>\n",
       "      <td>0</td>\n",
       "      <td>0</td>\n",
       "    </tr>\n",
       "    <tr>\n",
       "      <th>2</th>\n",
       "      <td>2020-01-04</td>\n",
       "      <td>AF</td>\n",
       "      <td>Afghanistan</td>\n",
       "      <td>EMRO</td>\n",
       "      <td>0</td>\n",
       "      <td>0</td>\n",
       "      <td>0</td>\n",
       "      <td>0</td>\n",
       "    </tr>\n",
       "    <tr>\n",
       "      <th>3</th>\n",
       "      <td>2020-01-05</td>\n",
       "      <td>AF</td>\n",
       "      <td>Afghanistan</td>\n",
       "      <td>EMRO</td>\n",
       "      <td>0</td>\n",
       "      <td>0</td>\n",
       "      <td>0</td>\n",
       "      <td>0</td>\n",
       "    </tr>\n",
       "    <tr>\n",
       "      <th>4</th>\n",
       "      <td>2020-01-06</td>\n",
       "      <td>AF</td>\n",
       "      <td>Afghanistan</td>\n",
       "      <td>EMRO</td>\n",
       "      <td>0</td>\n",
       "      <td>0</td>\n",
       "      <td>0</td>\n",
       "      <td>0</td>\n",
       "    </tr>\n",
       "    <tr>\n",
       "      <th>5</th>\n",
       "      <td>2020-01-07</td>\n",
       "      <td>AF</td>\n",
       "      <td>Afghanistan</td>\n",
       "      <td>EMRO</td>\n",
       "      <td>0</td>\n",
       "      <td>0</td>\n",
       "      <td>0</td>\n",
       "      <td>0</td>\n",
       "    </tr>\n",
       "    <tr>\n",
       "      <th>...</th>\n",
       "      <td>...</td>\n",
       "      <td>...</td>\n",
       "      <td>...</td>\n",
       "      <td>...</td>\n",
       "      <td>...</td>\n",
       "      <td>...</td>\n",
       "      <td>...</td>\n",
       "      <td>...</td>\n",
       "    </tr>\n",
       "    <tr>\n",
       "      <th>148595</th>\n",
       "      <td>2021-09-16</td>\n",
       "      <td>ZW</td>\n",
       "      <td>Zimbabwe</td>\n",
       "      <td>AFRO</td>\n",
       "      <td>266</td>\n",
       "      <td>127083</td>\n",
       "      <td>1</td>\n",
       "      <td>4551</td>\n",
       "    </tr>\n",
       "    <tr>\n",
       "      <th>148596</th>\n",
       "      <td>2021-09-17</td>\n",
       "      <td>ZW</td>\n",
       "      <td>Zimbabwe</td>\n",
       "      <td>AFRO</td>\n",
       "      <td>285</td>\n",
       "      <td>127368</td>\n",
       "      <td>9</td>\n",
       "      <td>4560</td>\n",
       "    </tr>\n",
       "    <tr>\n",
       "      <th>148597</th>\n",
       "      <td>2021-09-18</td>\n",
       "      <td>ZW</td>\n",
       "      <td>Zimbabwe</td>\n",
       "      <td>AFRO</td>\n",
       "      <td>264</td>\n",
       "      <td>127632</td>\n",
       "      <td>2</td>\n",
       "      <td>4562</td>\n",
       "    </tr>\n",
       "    <tr>\n",
       "      <th>148598</th>\n",
       "      <td>2021-09-19</td>\n",
       "      <td>ZW</td>\n",
       "      <td>Zimbabwe</td>\n",
       "      <td>AFRO</td>\n",
       "      <td>107</td>\n",
       "      <td>127739</td>\n",
       "      <td>1</td>\n",
       "      <td>4563</td>\n",
       "    </tr>\n",
       "    <tr>\n",
       "      <th>148599</th>\n",
       "      <td>2021-09-20</td>\n",
       "      <td>ZW</td>\n",
       "      <td>Zimbabwe</td>\n",
       "      <td>AFRO</td>\n",
       "      <td>199</td>\n",
       "      <td>127938</td>\n",
       "      <td>4</td>\n",
       "      <td>4567</td>\n",
       "    </tr>\n",
       "  </tbody>\n",
       "</table>\n",
       "<p>148599 rows × 8 columns</p>\n",
       "</div>"
      ],
      "text/plain": [
       "       Date_reported Country_code      Country WHO_region  New_cases  \\\n",
       "1         2020-01-03           AF  Afghanistan       EMRO          0   \n",
       "2         2020-01-04           AF  Afghanistan       EMRO          0   \n",
       "3         2020-01-05           AF  Afghanistan       EMRO          0   \n",
       "4         2020-01-06           AF  Afghanistan       EMRO          0   \n",
       "5         2020-01-07           AF  Afghanistan       EMRO          0   \n",
       "...              ...          ...          ...        ...        ...   \n",
       "148595    2021-09-16           ZW     Zimbabwe       AFRO        266   \n",
       "148596    2021-09-17           ZW     Zimbabwe       AFRO        285   \n",
       "148597    2021-09-18           ZW     Zimbabwe       AFRO        264   \n",
       "148598    2021-09-19           ZW     Zimbabwe       AFRO        107   \n",
       "148599    2021-09-20           ZW     Zimbabwe       AFRO        199   \n",
       "\n",
       "        Cumulative_cases  New_deaths  Cumulative_deaths  \n",
       "1                      0           0                  0  \n",
       "2                      0           0                  0  \n",
       "3                      0           0                  0  \n",
       "4                      0           0                  0  \n",
       "5                      0           0                  0  \n",
       "...                  ...         ...                ...  \n",
       "148595            127083           1               4551  \n",
       "148596            127368           9               4560  \n",
       "148597            127632           2               4562  \n",
       "148598            127739           1               4563  \n",
       "148599            127938           4               4567  \n",
       "\n",
       "[148599 rows x 8 columns]"
      ]
     },
     "execution_count": 2,
     "metadata": {},
     "output_type": "execute_result"
    }
   ],
   "source": [
    "#importing data\n",
    "#since index will act as Day count, we will start index from 1\n",
    "df = pd.read_csv(\"WHO-COVID-19-global-data.csv\")\n",
    "df.index+=1\n",
    "df"
   ]
  },
  {
   "cell_type": "code",
   "execution_count": 3,
   "id": "d90e9e2c",
   "metadata": {},
   "outputs": [],
   "source": [
    "ger = df[df['Country'] == 'Germany']\n",
    "ger=ger.reset_index()\n",
    "ger.index +=1"
   ]
  },
  {
   "cell_type": "code",
   "execution_count": 4,
   "id": "ec1760fd",
   "metadata": {},
   "outputs": [
    {
     "data": {
      "text/html": [
       "<div>\n",
       "<style scoped>\n",
       "    .dataframe tbody tr th:only-of-type {\n",
       "        vertical-align: middle;\n",
       "    }\n",
       "\n",
       "    .dataframe tbody tr th {\n",
       "        vertical-align: top;\n",
       "    }\n",
       "\n",
       "    .dataframe thead th {\n",
       "        text-align: right;\n",
       "    }\n",
       "</style>\n",
       "<table border=\"1\" class=\"dataframe\">\n",
       "  <thead>\n",
       "    <tr style=\"text-align: right;\">\n",
       "      <th></th>\n",
       "      <th>index</th>\n",
       "      <th>Date_reported</th>\n",
       "      <th>Country_code</th>\n",
       "      <th>Country</th>\n",
       "      <th>WHO_region</th>\n",
       "      <th>New_cases</th>\n",
       "      <th>Cumulative_cases</th>\n",
       "      <th>New_deaths</th>\n",
       "      <th>Cumulative_deaths</th>\n",
       "    </tr>\n",
       "  </thead>\n",
       "  <tbody>\n",
       "    <tr>\n",
       "      <th>58</th>\n",
       "      <td>48964</td>\n",
       "      <td>2020-02-29</td>\n",
       "      <td>DE</td>\n",
       "      <td>Germany</td>\n",
       "      <td>EURO</td>\n",
       "      <td>10</td>\n",
       "      <td>57</td>\n",
       "      <td>0</td>\n",
       "      <td>0</td>\n",
       "    </tr>\n",
       "  </tbody>\n",
       "</table>\n",
       "</div>"
      ],
      "text/plain": [
       "    index Date_reported Country_code  Country WHO_region  New_cases  \\\n",
       "58  48964    2020-02-29           DE  Germany       EURO         10   \n",
       "\n",
       "    Cumulative_cases  New_deaths  Cumulative_deaths  \n",
       "58                57           0                  0  "
      ]
     },
     "execution_count": 4,
     "metadata": {},
     "output_type": "execute_result"
    }
   ],
   "source": [
    "ger_start =ger[ger['Date_reported']=='2020-02-29']\n",
    "ger_start"
   ]
  },
  {
   "cell_type": "markdown",
   "id": "4fb36de2",
   "metadata": {},
   "source": [
    "### Germany Original Wave 1 : 52 - 286\n",
    "### After considering start as 50 cases:\n",
    "### Germany Wave 1 : 58 - 286\n",
    "### Split as:\n",
    "### 58-95\n",
    "### 96-286"
   ]
  },
  {
   "cell_type": "code",
   "execution_count": 5,
   "id": "b2947b17",
   "metadata": {},
   "outputs": [
    {
     "data": {
      "text/html": [
       "<div>\n",
       "<style scoped>\n",
       "    .dataframe tbody tr th:only-of-type {\n",
       "        vertical-align: middle;\n",
       "    }\n",
       "\n",
       "    .dataframe tbody tr th {\n",
       "        vertical-align: top;\n",
       "    }\n",
       "\n",
       "    .dataframe thead th {\n",
       "        text-align: right;\n",
       "    }\n",
       "</style>\n",
       "<table border=\"1\" class=\"dataframe\">\n",
       "  <thead>\n",
       "    <tr style=\"text-align: right;\">\n",
       "      <th></th>\n",
       "      <th>level_0</th>\n",
       "      <th>index</th>\n",
       "      <th>Date_reported</th>\n",
       "      <th>Country_code</th>\n",
       "      <th>Country</th>\n",
       "      <th>WHO_region</th>\n",
       "      <th>New_cases</th>\n",
       "      <th>Cumulative_cases</th>\n",
       "      <th>New_deaths</th>\n",
       "      <th>Cumulative_deaths</th>\n",
       "    </tr>\n",
       "  </thead>\n",
       "  <tbody>\n",
       "    <tr>\n",
       "      <th>1</th>\n",
       "      <td>58</td>\n",
       "      <td>48964</td>\n",
       "      <td>2020-02-29</td>\n",
       "      <td>DE</td>\n",
       "      <td>Germany</td>\n",
       "      <td>EURO</td>\n",
       "      <td>10</td>\n",
       "      <td>57</td>\n",
       "      <td>0</td>\n",
       "      <td>0</td>\n",
       "    </tr>\n",
       "    <tr>\n",
       "      <th>2</th>\n",
       "      <td>59</td>\n",
       "      <td>48965</td>\n",
       "      <td>2020-03-01</td>\n",
       "      <td>DE</td>\n",
       "      <td>Germany</td>\n",
       "      <td>EURO</td>\n",
       "      <td>54</td>\n",
       "      <td>111</td>\n",
       "      <td>0</td>\n",
       "      <td>0</td>\n",
       "    </tr>\n",
       "    <tr>\n",
       "      <th>3</th>\n",
       "      <td>60</td>\n",
       "      <td>48966</td>\n",
       "      <td>2020-03-02</td>\n",
       "      <td>DE</td>\n",
       "      <td>Germany</td>\n",
       "      <td>EURO</td>\n",
       "      <td>18</td>\n",
       "      <td>129</td>\n",
       "      <td>0</td>\n",
       "      <td>0</td>\n",
       "    </tr>\n",
       "    <tr>\n",
       "      <th>4</th>\n",
       "      <td>61</td>\n",
       "      <td>48967</td>\n",
       "      <td>2020-03-03</td>\n",
       "      <td>DE</td>\n",
       "      <td>Germany</td>\n",
       "      <td>EURO</td>\n",
       "      <td>28</td>\n",
       "      <td>157</td>\n",
       "      <td>0</td>\n",
       "      <td>0</td>\n",
       "    </tr>\n",
       "    <tr>\n",
       "      <th>5</th>\n",
       "      <td>62</td>\n",
       "      <td>48968</td>\n",
       "      <td>2020-03-04</td>\n",
       "      <td>DE</td>\n",
       "      <td>Germany</td>\n",
       "      <td>EURO</td>\n",
       "      <td>39</td>\n",
       "      <td>196</td>\n",
       "      <td>0</td>\n",
       "      <td>0</td>\n",
       "    </tr>\n",
       "    <tr>\n",
       "      <th>...</th>\n",
       "      <td>...</td>\n",
       "      <td>...</td>\n",
       "      <td>...</td>\n",
       "      <td>...</td>\n",
       "      <td>...</td>\n",
       "      <td>...</td>\n",
       "      <td>...</td>\n",
       "      <td>...</td>\n",
       "      <td>...</td>\n",
       "      <td>...</td>\n",
       "    </tr>\n",
       "    <tr>\n",
       "      <th>559</th>\n",
       "      <td>616</td>\n",
       "      <td>49522</td>\n",
       "      <td>2021-09-09</td>\n",
       "      <td>DE</td>\n",
       "      <td>Germany</td>\n",
       "      <td>EURO</td>\n",
       "      <td>15431</td>\n",
       "      <td>4046112</td>\n",
       "      <td>50</td>\n",
       "      <td>92498</td>\n",
       "    </tr>\n",
       "    <tr>\n",
       "      <th>560</th>\n",
       "      <td>617</td>\n",
       "      <td>49523</td>\n",
       "      <td>2021-09-10</td>\n",
       "      <td>DE</td>\n",
       "      <td>Germany</td>\n",
       "      <td>EURO</td>\n",
       "      <td>12969</td>\n",
       "      <td>4059081</td>\n",
       "      <td>55</td>\n",
       "      <td>92553</td>\n",
       "    </tr>\n",
       "    <tr>\n",
       "      <th>561</th>\n",
       "      <td>618</td>\n",
       "      <td>49524</td>\n",
       "      <td>2021-09-11</td>\n",
       "      <td>DE</td>\n",
       "      <td>Germany</td>\n",
       "      <td>EURO</td>\n",
       "      <td>11214</td>\n",
       "      <td>4070295</td>\n",
       "      <td>45</td>\n",
       "      <td>92598</td>\n",
       "    </tr>\n",
       "    <tr>\n",
       "      <th>562</th>\n",
       "      <td>619</td>\n",
       "      <td>49525</td>\n",
       "      <td>2021-09-12</td>\n",
       "      <td>DE</td>\n",
       "      <td>Germany</td>\n",
       "      <td>EURO</td>\n",
       "      <td>7345</td>\n",
       "      <td>4077640</td>\n",
       "      <td>8</td>\n",
       "      <td>92606</td>\n",
       "    </tr>\n",
       "    <tr>\n",
       "      <th>563</th>\n",
       "      <td>620</td>\n",
       "      <td>49526</td>\n",
       "      <td>2021-09-13</td>\n",
       "      <td>DE</td>\n",
       "      <td>Germany</td>\n",
       "      <td>EURO</td>\n",
       "      <td>5511</td>\n",
       "      <td>4083151</td>\n",
       "      <td>12</td>\n",
       "      <td>92618</td>\n",
       "    </tr>\n",
       "  </tbody>\n",
       "</table>\n",
       "<p>563 rows × 10 columns</p>\n",
       "</div>"
      ],
      "text/plain": [
       "     level_0  index Date_reported Country_code  Country WHO_region  New_cases  \\\n",
       "1         58  48964    2020-02-29           DE  Germany       EURO         10   \n",
       "2         59  48965    2020-03-01           DE  Germany       EURO         54   \n",
       "3         60  48966    2020-03-02           DE  Germany       EURO         18   \n",
       "4         61  48967    2020-03-03           DE  Germany       EURO         28   \n",
       "5         62  48968    2020-03-04           DE  Germany       EURO         39   \n",
       "..       ...    ...           ...          ...      ...        ...        ...   \n",
       "559      616  49522    2021-09-09           DE  Germany       EURO      15431   \n",
       "560      617  49523    2021-09-10           DE  Germany       EURO      12969   \n",
       "561      618  49524    2021-09-11           DE  Germany       EURO      11214   \n",
       "562      619  49525    2021-09-12           DE  Germany       EURO       7345   \n",
       "563      620  49526    2021-09-13           DE  Germany       EURO       5511   \n",
       "\n",
       "     Cumulative_cases  New_deaths  Cumulative_deaths  \n",
       "1                  57           0                  0  \n",
       "2                 111           0                  0  \n",
       "3                 129           0                  0  \n",
       "4                 157           0                  0  \n",
       "5                 196           0                  0  \n",
       "..                ...         ...                ...  \n",
       "559           4046112          50              92498  \n",
       "560           4059081          55              92553  \n",
       "561           4070295          45              92598  \n",
       "562           4077640           8              92606  \n",
       "563           4083151          12              92618  \n",
       "\n",
       "[563 rows x 10 columns]"
      ]
     },
     "execution_count": 5,
     "metadata": {},
     "output_type": "execute_result"
    }
   ],
   "source": [
    "ger_new = ger[57:620]\n",
    "ger_new = ger_new.reset_index()\n",
    "ger_new.index +=1\n",
    "ger_new"
   ]
  },
  {
   "cell_type": "code",
   "execution_count": 6,
   "id": "47cba8ea",
   "metadata": {},
   "outputs": [],
   "source": [
    "ger_pop = 83240000\n",
    "\n",
    "ger_norm_case = ger_new['Cumulative_cases']/ger_pop"
   ]
  },
  {
   "cell_type": "code",
   "execution_count": 7,
   "id": "5ffa788b",
   "metadata": {},
   "outputs": [
    {
     "data": {
      "image/png": "[encoded data removed]",
      "text/plain": [
       "<Figure size 432x288 with 1 Axes>"
      ]
     },
     "metadata": {
      "needs_background": "light"
     },
     "output_type": "display_data"
    }
   ],
   "source": [
    "x1 = ger_new.index\n",
    "y1 = ger_norm_case\n",
    "\n",
    "plt.plot(x1,y1,color=\"blue\",linewidth =3.0)\n",
    "plt.xticks(np.arange(1,600,11))\n",
    "plt.yticks(np.arange(0,0.05,0.005))\n",
    "plt.xlabel('Days from the beginning of pandemic')\n",
    "plt.ylabel('Logarithms of normalised data')\n",
    "plt.title('Germany: Normalised Data')\n",
    "plt.rcParams['figure.figsize'] = [32,15]\n",
    "plt.rcParams.update({'font.size': 17})\n",
    "plt.grid()\n",
    "plt.show()"
   ]
  },
  {
   "cell_type": "code",
   "execution_count": 8,
   "id": "68c0c744",
   "metadata": {},
   "outputs": [
    {
     "data": {
      "image/png": "[encoded data removed]",
      "text/plain": [
       "<Figure size 2304x1080 with 1 Axes>"
      ]
     },
     "metadata": {
      "needs_background": "light"
     },
     "output_type": "display_data"
    }
   ],
   "source": [
    "x1 = ger_new.index\n",
    "y1 = np.log(ger_norm_case)\n",
    "\n",
    "plt.plot(x1,y1,color=\"blue\",linewidth =3.0)\n",
    "plt.xticks(np.arange(1,600,11))\n",
    "plt.yticks(np.arange(-14,0,0.5))\n",
    "plt.xlabel('Days from the beginning of pandemic')\n",
    "plt.ylabel('Logarithms of normalised data')\n",
    "plt.title('Germany: Linear Growth in Logarithms')\n",
    "plt.rcParams['figure.figsize'] = [30,15]\n",
    "plt.rcParams.update({'font.size': 17})\n",
    "plt.grid()\n",
    "plt.show()"
   ]
  },
  {
   "cell_type": "code",
   "execution_count": null,
   "id": "403ac3d1",
   "metadata": {},
   "outputs": [],
   "source": []
  },
  {
   "cell_type": "markdown",
   "id": "49c3e786",
   "metadata": {},
   "source": [
    "### Interval 1 : 1-38\n",
    "### Interval 2 : 39 - 229\n",
    "### Interval 3 : 1-229\n",
    "### Interval 4: 1-563"
   ]
  },
  {
   "cell_type": "code",
   "execution_count": 9,
   "id": "a0f1810f",
   "metadata": {},
   "outputs": [
    {
     "name": "stdout",
     "output_type": "stream",
     "text": [
      "0.20219302192571031 -13.521548854162306\n",
      "0.00415179659396571 -6.577020143269929\n",
      "0.01623513349779421 -8.47814774329356\n",
      "0.01005244548368058 -7.6582474775389455\n",
      "[  1   2   3   4   5   6   7   8   9  10  11  12  13  14  15  16  17  18\n",
      "  19  20  21  22  23  24  25  26  27  28  29  30  31  32  33  34  35  36\n",
      "  37  38  39  40  41  42  43  44  45  46  47  48  49  50  51  52  53  54\n",
      "  55  56  57  58  59  60  61  62  63  64  65  66  67  68  69  70  71  72\n",
      "  73  74  75  76  77  78  79  80  81  82  83  84  85  86  87  88  89  90\n",
      "  91  92  93  94  95  96  97  98  99 100 101 102 103 104 105 106 107 108\n",
      " 109 110 111 112 113 114 115 116 117 118 119 120 121 122 123 124 125 126\n",
      " 127 128 129 130 131 132 133 134 135 136 137 138 139 140 141 142 143 144\n",
      " 145 146 147 148 149 150 151 152 153 154 155 156 157 158 159 160 161 162\n",
      " 163 164 165 166 167 168 169 170 171 172 173 174 175 176 177 178 179 180\n",
      " 181 182 183 184 185 186 187 188 189 190 191 192 193 194 195 196 197 198\n",
      " 199 200 201 202 203 204 205 206 207 208 209 210 211 212 213 214 215 216\n",
      " 217 218 219 220 221 222 223 224 225 226 227 228 229 230 231 232 233 234\n",
      " 235 236 237 238 239 240 241 242 243 244 245 246 247 248 249 250 251 252\n",
      " 253 254 255 256 257 258 259 260 261 262 263 264 265 266 267 268 269 270\n",
      " 271 272 273 274 275 276 277 278 279 280 281 282 283 284 285 286 287 288\n",
      " 289 290 291 292 293 294 295 296 297 298 299 300 301 302 303 304 305 306\n",
      " 307 308 309 310 311 312 313 314 315 316 317 318 319 320 321 322 323 324\n",
      " 325 326 327 328 329 330 331 332 333 334 335 336 337 338 339 340 341 342\n",
      " 343 344 345 346 347 348 349 350 351 352 353 354 355 356 357 358 359 360\n",
      " 361 362 363 364 365 366 367 368 369 370 371 372 373 374 375 376 377 378\n",
      " 379 380 381 382 383 384 385 386 387 388 389 390 391 392 393 394 395 396\n",
      " 397 398 399 400 401 402 403 404 405 406 407 408 409 410 411 412 413 414\n",
      " 415 416 417 418 419 420 421 422 423 424 425 426 427 428 429 430 431 432\n",
      " 433 434 435 436 437 438 439 440 441 442 443 444 445 446 447 448 449 450\n",
      " 451 452 453 454 455 456 457 458 459 460 461 462 463 464 465 466 467 468\n",
      " 469 470 471 472 473 474 475 476 477 478 479 480 481 482 483 484 485 486\n",
      " 487 488 489 490 491 492 493 494 495 496 497 498 499 500 501 502 503 504\n",
      " 505 506 507 508 509 510 511 512 513 514 515 516 517 518 519 520 521 522\n",
      " 523 524 525 526 527 528 529 530 531 532 533 534 535 536 537 538 539 540\n",
      " 541 542 543 544 545 546 547 548 549 550 551 552 553 554 555 556 557 558\n",
      " 559 560 561 562 563]\n"
     ]
    }
   ],
   "source": [
    "x = ger_new.index.values\n",
    "y= np.log(ger_norm_case)\n",
    "x_int1 = x[:38]\n",
    "y_int1 = y[:38]\n",
    "x_int2 = x[38:229]\n",
    "y_int2 = y[38:229]\n",
    "x_int3 = x[:229]\n",
    "y_int3 = y[:229]\n",
    "x_int4 = x[:563]\n",
    "y_int4 = y[:563]\n",
    "\n",
    "#Interval 1\n",
    "curve1 = np.polyfit(x_int1,y_int1,1)\n",
    "r1= curve1[0]\n",
    "c1= curve1[1]\n",
    "print(r1,c1)\n",
    "\n",
    "#Interval 2\n",
    "curve2 = np.polyfit(x_int2,y_int2,1)\n",
    "r2= curve2[0]\n",
    "c2= curve2[1]\n",
    "print(r2,c2)\n",
    "\n",
    "#Interval 3\n",
    "curve3 = np.polyfit(x_int3,y_int3,1)\n",
    "r3= curve3[0]\n",
    "c3= curve3[1]\n",
    "print(r3,c3)\n",
    "\n",
    "#Interval 4\n",
    "curve4 = np.polyfit(x_int4,y_int4,1)\n",
    "r4= curve4[0]\n",
    "c4= curve4[1]\n",
    "print(r4,c4)\n",
    "\n",
    "print(x)"
   ]
  },
  {
   "cell_type": "code",
   "execution_count": 10,
   "id": "aa412f01",
   "metadata": {},
   "outputs": [],
   "source": [
    "y1 = r1*x_int1 +c1\n",
    "y2 = r2*x_int2 +c2\n",
    "y3 = r3*x_int3 +c3\n",
    "y4 = r4*x_int4 +c4"
   ]
  },
  {
   "cell_type": "code",
   "execution_count": 11,
   "id": "313dc4ad",
   "metadata": {},
   "outputs": [
    {
     "data": {
      "image/png": "[encoded data removed]",
      "text/plain": [
       "<Figure size 2160x1080 with 1 Axes>"
      ]
     },
     "metadata": {
      "needs_background": "light"
     },
     "output_type": "display_data"
    }
   ],
   "source": [
    "plt.plot(x,y,color=\"blue\")\n",
    "plt.plot(x_int1,y1,color=\"purple\",linestyle=\"dashed\",linewidth=3.0)\n",
    "plt.plot(x_int2,y2,color=\"orange\",linestyle=\"dashed\",linewidth=3.0)\n",
    "\n",
    "#plt.xaxis.set_ticks(np.arange(0,625,13))\n",
    "#plt.yaxis.set_ticks\n",
    "#plt.xticks(np.arange(0,625,13))\n",
    "#plt.yticks(np.arange(-19,1,1))\n",
    "plt.title('Germany Covid Cases in Logarithmic Waves')\n",
    "plt.xlabel('Days from the beginning of pandemic')\n",
    "plt.rcParams['figure.figsize'] = [28,10]\n",
    "plt.rcParams.update({'font.size': 17})\n",
    "plt.grid()\n",
    "plt.show()"
   ]
  },
  {
   "cell_type": "code",
   "execution_count": 12,
   "id": "2670e343",
   "metadata": {},
   "outputs": [
    {
     "name": "stdout",
     "output_type": "stream",
     "text": [
      "0.3021930219257103\n"
     ]
    }
   ],
   "source": [
    "waveEnd = 228\n",
    "b=0.1\n",
    "a1= r1+b\n",
    "print(a1)"
   ]
  },
  {
   "cell_type": "code",
   "execution_count": 13,
   "id": "b3d09fb7",
   "metadata": {},
   "outputs": [
    {
     "name": "stdout",
     "output_type": "stream",
     "text": [
      "1     6.847669e-07\n",
      "2     1.333494e-06\n",
      "3     1.549736e-06\n",
      "4     1.886112e-06\n",
      "5     2.354637e-06\n",
      "6     3.147525e-06\n",
      "7     4.805382e-06\n",
      "8     8.217203e-06\n",
      "9     1.017540e-05\n",
      "10    1.083614e-05\n",
      "11    1.368333e-05\n",
      "12    1.556944e-05\n",
      "13    1.882508e-05\n",
      "14    2.845988e-05\n",
      "15    3.678520e-05\n",
      "16    4.559106e-05\n",
      "17    5.812110e-05\n",
      "18    7.222489e-05\n",
      "19    8.596828e-05\n",
      "20    9.848630e-05\n",
      "21    1.698462e-04\n",
      "22    2.184887e-04\n",
      "23    2.578448e-04\n",
      "24    2.976213e-04\n",
      "25    3.509370e-04\n",
      "26    3.790726e-04\n",
      "27    4.385872e-04\n",
      "28    5.080250e-04\n",
      "29    5.836377e-04\n",
      "30    6.312710e-04\n",
      "31    6.883469e-04\n",
      "32    7.437890e-04\n",
      "33    8.092984e-04\n",
      "34    8.832532e-04\n",
      "35    9.574243e-04\n",
      "36    1.030490e-03\n",
      "37    1.101802e-03\n",
      "38    1.145975e-03\n",
      "Name: Cumulative_cases, dtype: float64\n",
      "[1.64239366e-06 2.01042823e-06 2.46093355e-06 3.01239002e-06\n",
      " 3.68741921e-06 4.51371182e-06 5.52516360e-06 6.76326580e-06\n",
      " 8.27880721e-06 1.01339576e-05 1.24048180e-05 1.51845425e-05\n",
      " 1.85871594e-05 2.27522493e-05 2.78506703e-05 3.40915671e-05\n",
      " 4.17309507e-05 5.10821999e-05 6.25289169e-05 7.65406630e-05\n",
      " 9.36922209e-05 1.14687173e-04 1.40386763e-04 1.71845227e-04\n",
      " 2.10353038e-04 2.57489843e-04 3.15189264e-04 3.85818217e-04\n",
      " 4.72274007e-04 5.78103178e-04 7.07647001e-04 8.66219556e-04\n",
      " 1.06032572e-03 1.29792803e-03 1.58877327e-03 1.94479236e-03\n",
      " 2.38058971e-03 2.91404240e-03]\n"
     ]
    }
   ],
   "source": [
    "from scipy.special import expit\n",
    "\n",
    "obv_y = ger_norm_case[:38]\n",
    "print(obv_y)\n",
    "\n",
    "linreg = c1 + r1 * x_int1\n",
    "expit(linreg)\n",
    "exp_y = np.exp(linreg)\n",
    "print(exp_y)"
   ]
  },
  {
   "cell_type": "code",
   "execution_count": 14,
   "id": "5ff33ec5",
   "metadata": {},
   "outputs": [
    {
     "data": {
      "image/png": "[encoded data removed]",
      "text/plain": [
       "<Figure size 2016x720 with 1 Axes>"
      ]
     },
     "metadata": {
      "needs_background": "light"
     },
     "output_type": "display_data"
    }
   ],
   "source": [
    "plt.plot(x_int1,obv_y,color=\"blue\",linewidth=3.0)\n",
    "plt.plot(x_int1,exp_y,color=\"purple\",linewidth=3.0)\n",
    "\n",
    "#plt.xaxis.set_ticks(np.arange(0,625,13))\n",
    "#plt.yaxis.set_ticks\n",
    "plt.xticks(np.arange(0,40,2))\n",
    "#plt.yticks(np.arange(0,0.005,0.0005))\n",
    "plt.title('Germany Covid Cases in Logarithmic Waves')\n",
    "plt.xlabel('Days from the beginning of pandemic')\n",
    "plt.rcParams['figure.figsize'] = [28,12]\n",
    "plt.rcParams.update({'font.size': 17})\n",
    "plt.grid()\n",
    "plt.show()"
   ]
  },
  {
   "cell_type": "code",
   "execution_count": 15,
   "id": "ce4596f9",
   "metadata": {},
   "outputs": [
    {
     "name": "stdout",
     "output_type": "stream",
     "text": [
      "1.802018260451706e-07\n",
      "5.045651129264776e-07\n",
      "0.9999993152330611\n"
     ]
    }
   ],
   "source": [
    "#10 days before start or epidemic would be 48th day in original data\n",
    "\n",
    "day_10 = ger['Cumulative_cases'][48]\n",
    "R0 = day_10 / ger_pop\n",
    "print(R0)\n",
    "I0 = ger_new['Cumulative_cases'][1]/ger_pop - R0\n",
    "print(I0)\n",
    "S0 = 1- I0 - R0\n",
    "print(S0)"
   ]
  },
  {
   "cell_type": "code",
   "execution_count": 16,
   "id": "daa97792",
   "metadata": {},
   "outputs": [],
   "source": [
    "def equations(t, y):\n",
    "    # Y[0] = S(t)\n",
    "    # Y[1] = R(t)\n",
    "    i = 1 -y[0]-y[1]\n",
    "    \n",
    "    dSdt = -a1 * y[0] * i\n",
    "    dRdt = b * i\n",
    "    \n",
    "    return [dSdt, dRdt]\n",
    "inp = ger_norm_case[:38]"
   ]
  },
  {
   "cell_type": "code",
   "execution_count": 17,
   "id": "a5d76a98",
   "metadata": {},
   "outputs": [],
   "source": [
    "from scipy.integrate import solve_ivp\n",
    "sol = solve_ivp(equations, [1, inp.shape[0]], [S0, R0], t_eval=x_int1)"
   ]
  },
  {
   "cell_type": "code",
   "execution_count": 18,
   "id": "0f6a6bb1",
   "metadata": {},
   "outputs": [
    {
     "name": "stdout",
     "output_type": "stream",
     "text": [
      "[6.84766939e-07 1.33349351e-06 1.54973570e-06 1.88611245e-06\n",
      " 2.35463719e-06 3.14752523e-06 4.80538203e-06 8.21720327e-06\n",
      " 1.01753964e-05 1.08361365e-05 1.36833253e-05 1.55694378e-05\n",
      " 1.88250841e-05 2.84598751e-05 3.67851994e-05 4.55910620e-05\n",
      " 5.81210956e-05 7.22248919e-05 8.59682845e-05 9.84863047e-05\n",
      " 1.69846228e-04 2.18488707e-04 2.57844786e-04 2.97621336e-04\n",
      " 3.50937049e-04 3.79072561e-04 4.38587218e-04 5.08024988e-04\n",
      " 5.83637674e-04 6.31271024e-04 6.88346949e-04 7.43789044e-04\n",
      " 8.09298414e-04 8.83253244e-04 9.57424315e-04 1.03049015e-03\n",
      " 1.10180202e-03 1.14597549e-03]\n"
     ]
    },
    {
     "ename": "NameError",
     "evalue": "name 'a' is not defined",
     "output_type": "error",
     "traceback": [
      "\u001b[1;31m---------------------------------------------------------------------------\u001b[0m",
      "\u001b[1;31mNameError\u001b[0m                                 Traceback (most recent call last)",
      "\u001b[1;32mC:\\Users\\FARIYA~1\\AppData\\Local\\Temp/ipykernel_18344/1609313075.py\u001b[0m in \u001b[0;36m<module>\u001b[1;34m\u001b[0m\n\u001b[0;32m      3\u001b[0m \u001b[0mMSE\u001b[0m \u001b[1;33m=\u001b[0m \u001b[0mnp\u001b[0m\u001b[1;33m.\u001b[0m\u001b[0mmean\u001b[0m\u001b[1;33m(\u001b[0m\u001b[0mnp\u001b[0m\u001b[1;33m.\u001b[0m\u001b[0msquare\u001b[0m\u001b[1;33m(\u001b[0m\u001b[0mp\u001b[0m \u001b[1;33m-\u001b[0m \u001b[0minp\u001b[0m\u001b[1;33m)\u001b[0m\u001b[1;33m)\u001b[0m\u001b[1;33m\u001b[0m\u001b[1;33m\u001b[0m\u001b[0m\n\u001b[0;32m      4\u001b[0m \u001b[1;33m\u001b[0m\u001b[0m\n\u001b[1;32m----> 5\u001b[1;33m \u001b[0mprint\u001b[0m\u001b[1;33m(\u001b[0m\u001b[0ma\u001b[0m\u001b[1;33m,\u001b[0m\u001b[0mMSE\u001b[0m\u001b[1;33m)\u001b[0m\u001b[1;33m\u001b[0m\u001b[1;33m\u001b[0m\u001b[0m\n\u001b[0m",
      "\u001b[1;31mNameError\u001b[0m: name 'a' is not defined"
     ]
    }
   ],
   "source": [
    "p = 1 - sol.y[0, :]\n",
    "print(inp.values)\n",
    "MSE = np.mean(np.square(p - inp))\n",
    "\n",
    "print(a,MSE)"
   ]
  },
  {
   "cell_type": "code",
   "execution_count": null,
   "id": "220556cd",
   "metadata": {
    "scrolled": true
   },
   "outputs": [],
   "source": [
    "plt.figure()\n",
    "plt.plot(x_int1, inp.values, color=\"blue\", label = 'Observed')\n",
    "plt.plot(x_int1, p, color=\"purple\", label = 'Predicted')\n",
    "plt.xticks(np.arange(0,40,2))\n",
    "plt.xlabel('Day from beginning of epidemic')\n",
    "plt.ylabel('Fraction of infected population')\n",
    "plt.title('Germany: For Interval 1-38')\n",
    "plt.rcParams['figure.figsize'] = [28,12]\n",
    "plt.rcParams.update({'font.size': 17})\n",
    "plt.grid()\n",
    "plt.show()"
   ]
  },
  {
   "cell_type": "markdown",
   "id": "7c8fa1d4",
   "metadata": {},
   "source": [
    "### Interval 2: 39 - 229"
   ]
  },
  {
   "cell_type": "code",
   "execution_count": null,
   "id": "6507b981",
   "metadata": {},
   "outputs": [],
   "source": [
    "obv_y = ger_norm_case[38:229]\n",
    "\n",
    "linreg = c2 + r2 * x_int2\n",
    "expit(linreg)\n",
    "exp_y = np.exp(linreg)"
   ]
  },
  {
   "cell_type": "code",
   "execution_count": null,
   "id": "7a7ff376",
   "metadata": {},
   "outputs": [],
   "source": [
    "b=0.1\n",
    "a2= r2+b\n",
    "print(a2)"
   ]
  },
  {
   "cell_type": "code",
   "execution_count": null,
   "id": "cadc9b5f",
   "metadata": {},
   "outputs": [],
   "source": [
    "plt.plot(x_int2,obv_y,color=\"blue\",linewidth=3.0)\n",
    "plt.plot(x_int2,exp_y,color=\"purple\",linewidth=3.0)\n",
    "\n",
    "#plt.xaxis.set_ticks(np.arange(0,625,13))\n",
    "#plt.yaxis.set_ticks\n",
    "plt.xticks(np.arange(30,240,5))\n",
    "plt.yticks(np.arange(0,0.005,0.0005))\n",
    "plt.title('Germany Covid Cases in Logarithmic Waves')\n",
    "plt.xlabel('Days from the beginning of pandemic')\n",
    "plt.rcParams['figure.figsize'] = [28,12]\n",
    "plt.rcParams.update({'font.size': 17})\n",
    "plt.grid()\n",
    "plt.show()"
   ]
  },
  {
   "cell_type": "code",
   "execution_count": null,
   "id": "f31a61dd",
   "metadata": {},
   "outputs": [],
   "source": [
    "#10 days before start or epidemic would be 48th day in original data\n",
    "\n",
    "day_10 = ger_new['Cumulative_cases'][29]\n",
    "R2 = day_10 / ger_pop\n",
    "print(R2)\n",
    "I2 = ger_new['Cumulative_cases'][29]/ger_pop - R2\n",
    "print(I2)\n",
    "S2 = 1- I2 - R2\n",
    "print(S2)"
   ]
  },
  {
   "cell_type": "code",
   "execution_count": null,
   "id": "2739a2c8",
   "metadata": {},
   "outputs": [],
   "source": [
    "def equations(t, y):\n",
    "    # Y[0] = S(t)\n",
    "    # Y[1] = R(t)\n",
    "    i = 1 -y[0]-y[1]\n",
    "    \n",
    "    dSdt = -a2 * y[0] * i\n",
    "    dRdt = b * i\n",
    "    \n",
    "    return [dSdt, dRdt]\n",
    "inp = ger_norm_case[38:229]"
   ]
  },
  {
   "cell_type": "code",
   "execution_count": null,
   "id": "a184c460",
   "metadata": {},
   "outputs": [],
   "source": [
    "from scipy.integrate import solve_ivp\n",
    "sol = solve_ivp(equations, [1, inp.shape[0]], [S2, R2], t_eval=x_int2-38)"
   ]
  },
  {
   "cell_type": "code",
   "execution_count": null,
   "id": "f9b46bc3",
   "metadata": {},
   "outputs": [],
   "source": [
    "p = 1 - sol.y[0, :]\n",
    "MSE = np.mean(np.square(p - inp))\n",
    "print(p)\n",
    "print(a,MSE)"
   ]
  },
  {
   "cell_type": "code",
   "execution_count": null,
   "id": "021c21b3",
   "metadata": {},
   "outputs": [],
   "source": [
    "plt.figure()\n",
    "plt.plot(x_int2, inp.values, color=\"blue\", label = 'Observed')\n",
    "plt.plot(x_int2, p, color=\"purple\", label = 'Predicted')\n",
    "plt.xticks(np.arange(0,240,10))\n",
    "plt.xlabel('Day from beginning of epidemic')\n",
    "plt.ylabel('Fraction of infected population')\n",
    "plt.title('Germany: For Interval 39-229')\n",
    "plt.rcParams['figure.figsize'] = [28,12]\n",
    "plt.rcParams.update({'font.size': 17})\n",
    "plt.grid()\n",
    "plt.show()"
   ]
  },
  {
   "cell_type": "markdown",
   "id": "7939795e",
   "metadata": {},
   "source": [
    "### Interval 3: 1 - 229"
   ]
  },
  {
   "cell_type": "code",
   "execution_count": null,
   "id": "a92b8250",
   "metadata": {},
   "outputs": [],
   "source": [
    "obv_y = ger_norm_case[:229]\n",
    "\n",
    "linreg = c3 + r3 * x_int3\n",
    "expit(linreg)\n",
    "exp_y = np.exp(linreg)"
   ]
  },
  {
   "cell_type": "code",
   "execution_count": null,
   "id": "5679dac5",
   "metadata": {},
   "outputs": [],
   "source": [
    "b=0.1\n",
    "a3= r3+b\n",
    "print(a3)"
   ]
  },
  {
   "cell_type": "code",
   "execution_count": null,
   "id": "06b0e3bb",
   "metadata": {},
   "outputs": [],
   "source": [
    "#10 days before start or epidemic would be 48th day in original data\n",
    "\n",
    "day_10 = ger['Cumulative_cases'][48]\n",
    "R3 = day_10 / ger_pop\n",
    "print(R3)\n",
    "I3 = ger_new['Cumulative_cases'][1]/ger_pop - R3\n",
    "print(I3)\n",
    "S3 = 1- I3 - R3\n",
    "print(S3)"
   ]
  },
  {
   "cell_type": "code",
   "execution_count": null,
   "id": "4c93cb80",
   "metadata": {},
   "outputs": [],
   "source": [
    "def equations(t, y):\n",
    "    # Y[0] = S(t)\n",
    "    # Y[1] = R(t)\n",
    "    i = 1 -y[0]-y[1]\n",
    "    \n",
    "    dSdt = -a3 * y[0] * i\n",
    "    dRdt = b * i\n",
    "    \n",
    "    return [dSdt, dRdt]\n",
    "inp = ger_norm_case[:229]"
   ]
  },
  {
   "cell_type": "code",
   "execution_count": null,
   "id": "f76359ab",
   "metadata": {},
   "outputs": [],
   "source": [
    "from scipy.integrate import solve_ivp\n",
    "sol = solve_ivp(equations, [1, inp.shape[0]], [S3, R3], t_eval=x_int3)"
   ]
  },
  {
   "cell_type": "code",
   "execution_count": null,
   "id": "07b9f9b4",
   "metadata": {},
   "outputs": [],
   "source": [
    "p = 1 - sol.y[0, :]\n",
    "MSE = np.mean(np.square(p - inp))\n",
    "\n",
    "print(a,MSE)"
   ]
  },
  {
   "cell_type": "code",
   "execution_count": null,
   "id": "4f15d312",
   "metadata": {},
   "outputs": [],
   "source": [
    "plt.figure()\n",
    "plt.plot(x_int3, inp.values, color=\"blue\", label = 'Observed')\n",
    "plt.plot(x_int3, p, color=\"purple\", label = 'Predicted')\n",
    "plt.xticks(np.arange(0,240,10))\n",
    "plt.xlabel('Day from beginning of epidemic')\n",
    "plt.ylabel('Fraction of infected population')\n",
    "plt.title('Germany: For Interval 1-229')\n",
    "plt.rcParams['figure.figsize'] = [28,12]\n",
    "plt.rcParams.update({'font.size': 17})\n",
    "plt.grid()\n",
    "plt.show()"
   ]
  },
  {
   "cell_type": "markdown",
   "id": "a3a87de0",
   "metadata": {},
   "source": [
    "### Interval 4: 1 - 563"
   ]
  },
  {
   "cell_type": "code",
   "execution_count": null,
   "id": "d1dbedaf",
   "metadata": {},
   "outputs": [],
   "source": [
    "b=0.1\n",
    "a4= r4+b\n",
    "print(a4)"
   ]
  },
  {
   "cell_type": "code",
   "execution_count": null,
   "id": "c3b03ed8",
   "metadata": {},
   "outputs": [],
   "source": [
    "#10 days before start or epidemic would be 48th day in original data\n",
    "\n",
    "day_10 = ger['Cumulative_cases'][48]\n",
    "R4 = day_10 / ger_pop\n",
    "print(R4)\n",
    "I4 = ger_new['Cumulative_cases'][1]/ger_pop - R4\n",
    "print(I4)\n",
    "S4 = 1- I4 - R4\n",
    "print(S4)"
   ]
  },
  {
   "cell_type": "code",
   "execution_count": null,
   "id": "b1e0ca4b",
   "metadata": {},
   "outputs": [],
   "source": [
    "def equations(t, y):\n",
    "    # Y[0] = S(t)\n",
    "    # Y[1] = R(t)\n",
    "    i = 1 -y[0]-y[1]\n",
    "    \n",
    "    dSdt = -a4 * y[0] * i\n",
    "    dRdt = b * i\n",
    "    \n",
    "    return [dSdt, dRdt]\n",
    "inp = ger_norm_case[:563]"
   ]
  },
  {
   "cell_type": "code",
   "execution_count": null,
   "id": "58ee60a8",
   "metadata": {},
   "outputs": [],
   "source": [
    "from scipy.integrate import solve_ivp\n",
    "sol = solve_ivp(equations, [1, inp.shape[0]], [S4, R4], t_eval=x_int4)"
   ]
  },
  {
   "cell_type": "code",
   "execution_count": null,
   "id": "38e9d45e",
   "metadata": {},
   "outputs": [],
   "source": [
    "p = 1 - sol.y[0, :]\n",
    "MSE = np.mean(np.square(p - inp))\n",
    "\n",
    "print(a,MSE)"
   ]
  },
  {
   "cell_type": "code",
   "execution_count": null,
   "id": "f87b3275",
   "metadata": {},
   "outputs": [],
   "source": [
    "plt.figure()\n",
    "plt.plot(x_int4, inp.values, color=\"blue\", label = 'Observed')\n",
    "plt.plot(x_int4, p, color=\"purple\", label = 'Predicted')\n",
    "plt.xticks(np.arange(0,580,15))\n",
    "plt.yticks(np.arange(0,0.06,0.005))\n",
    "plt.xlabel('Day from beginning of epidemic')\n",
    "plt.ylabel('Fraction of infected population')\n",
    "plt.title('Germany: For Interval 1-563')\n",
    "plt.rcParams['figure.figsize'] = [30,15]\n",
    "plt.rcParams.update({'font.size': 17})\n",
    "plt.grid()\n",
    "plt.show()"
   ]
  },
  {
   "cell_type": "code",
   "execution_count": null,
   "id": "74698fb5",
   "metadata": {},
   "outputs": [],
   "source": []
  }
 ],
 "metadata": {
  "kernelspec": {
   "display_name": "Python 3 (ipykernel)",
   "language": "python",
   "name": "python3"
  },
  "language_info": {
   "codemirror_mode": {
    "name": "ipython",
    "version": 3
   },
   "file_extension": ".py",
   "mimetype": "text/x-python",
   "name": "python",
   "nbconvert_exporter": "python",
   "pygments_lexer": "ipython3",
   "version": "3.8.12"
  }
 },
 "nbformat": 4,
 "nbformat_minor": 5
}
